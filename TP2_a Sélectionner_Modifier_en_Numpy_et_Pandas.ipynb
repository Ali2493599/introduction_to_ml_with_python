{
 "cells": [
  {
   "cell_type": "markdown",
   "id": "fce78c43",
   "metadata": {},
   "source": [
    "# Array Numpy classique (brut), Array Numpy structuré, Dataframe Pandas"
   ]
  },
  {
   "cell_type": "markdown",
   "id": "569486a6",
   "metadata": {},
   "source": [
    "| Action                                   | Array structuré NumPy         | Array brut NumPy            | DataFrame Pandas               |\n",
    "|------------------------------------------|--------------------------------|------------------------------|--------------------------------|\n",
    "| Stocker des données typées par colonne   | ✅ Oui (typage strict)          | ⚠️ Non (même type imposé)      | ✅ Oui (souple, typage par colonne) |\n",
    "| Colonnes nommées                         | ✅ Oui                         | ❌ Non                       | ✅ Oui                         |\n",
    "| Calculs vectorisés / matriciels          | ❌ Limité                      | ✅ Oui                       | ✅ Oui + gestion des NaN       |\n",
    "| Calcul colonne par colonne               | 🔸 Possible mais manuel        | ✅ Simple                    | ✅ Ultra simple (nom de colonne) |\n",
    "| Gestion des données manquantes (NaN)     | ❌ Non natif                   | ⚠️ Possible avec dtype=object | ✅ Oui, très bien intégré       |\n",
    "| Fusion / Jointure                        | ❌ Non natif                   | ❌ Non                       | ✅ Puissant (merge, join, SQL-like)      |\n",
    "| Facilité de manipulation (filtrage, tri) | ⚠️ Plus complexe               | ⚠️ Basique                   | ✅ Simple et clair             |\n",
    "| Gestion des dimensions                   | ✅ 1D uniquement               | ✅ Multi-dimensionnel (nD)    | ✅ 2D (DataFrame) / 1D (Series) |\n"
   ]
  },
  {
   "cell_type": "markdown",
   "id": "bf7da626",
   "metadata": {},
   "source": [
    "Le array strucuré de Numpy est un peu comme un dataframe de Pandas (avec des noms de colonnes, et simule le fait d'avoir des lignes et des colonnes). Davantage utile pour présenter des données. Il peremt de typer les colonnes.\n",
    "\n",
    "Le array classique (brut) de Numpy est ce pour quoi Numpy est fait : ultraperformant, tous les calculs matriciels , produits, inverses... sont rapides et simples. Du point de vue des types de données, le array classique est fait d'éléments tous du même \"type\" : il accepte n'importe quoi, mais il va se typer lui-même en prenant le type de données qui englobe tout le monde. Si je mets dans un array des entier, des nombres décimaux et du texte, il va considérer chaque élément comme du texte. Les array/tableaux peuvent être à 1D, 2D ou beaucoup plus.\n",
    "\n",
    "Le dataframe de Pandas est un tableau à deux dimensions, le truc qui ressemble le plus à une table dans SQL. Beaucoup de fonctionnalités de manipulation de données, mais moins performant que Numpy sur les calculs bruts sur des nombres stockés dans des array/tableaux. En fait, Pandas vit une \"couche\" au-dessus de Numpy. Il supporte des types mixtes. Les \"tableaux\" pandas peuvent être à 1D (series) ou à 2D (dataframe)"
   ]
  },
  {
   "cell_type": "markdown",
   "id": "b41ea4aa",
   "metadata": {},
   "source": [
    "# Types de données : attention !!"
   ]
  },
  {
   "cell_type": "markdown",
   "id": "787c762f",
   "metadata": {},
   "source": [
    " ⚠️ Attention aux types de données et à leur gestion différente ! On peut avoir des données tronquées, notamment pour les array classique/brut de Numpy.\n",
    " Il vaut donc mieux définir le type de données lors de la création du tableau, pour éviter de perdre de l'information. En Pandas, ce problème ne se pose pas. \n",
    "\n"
   ]
  },
  {
   "cell_type": "code",
   "execution_count": 3,
   "id": "4259fa41",
   "metadata": {},
   "outputs": [
    {
     "name": "stdout",
     "output_type": "stream",
     "text": [
      "int32\n",
      "[[1 2]\n",
      " [3 4]]\n",
      "\n",
      " float64\n",
      "[[1. 2.]\n",
      " [8. 4.]]\n",
      "\n",
      " int32\n",
      "[[1 2]\n",
      " [3 4]]\n",
      "\n",
      "    A  B\n",
      "0  1  2\n",
      "1  3  4\n",
      "\n",
      "    A  B  (0, 0)\n",
      "0  1  2     1.7\n",
      "1  3  4     1.7\n"
     ]
    }
   ],
   "source": [
    "import numpy as np\n",
    "\n",
    "array_entiers = np.array([[1, 2], [3, 4]])\n",
    "print(array_entiers.dtype) # il va dire int32 ou int64 ; bref, il va prendre des entiers\n",
    "print(array_entiers) # il va afficher le tableau avec des entiers\n",
    "\n",
    "array_decimaux = np.array([[1, 2], [8., 4]])\n",
    "print(\"\\n\",array_decimaux.dtype) # il va dire float64 car il voit 2.0 cad un float / nombre décimal, il va donc prendre ce type là comme étant le type de données de chaque élément.\n",
    "print(array_decimaux) # il va afficher le tableau avec des float\n",
    "#Le type de données des éléments du array sont fixés lors de la création. \n",
    "#Remarque : si on \"modifie\" le array avec column_stack ou np.hstack, en fait il crée un noubel array, donc il va s'ajuster à la nouvelle colonne.\n",
    "\n",
    "#Par contre si on modifie la valeur d'un élément, il ne va pas changer le type de données du array.\n",
    "array_entiers[0, 0] = 1.7 # on remplace le premier élément qui vaut 1 (entier) par un float (1.7)\n",
    "print(\"\\n\",array_entiers.dtype) # il va dire int32 ou int64 ; bref, il va prendre des entiers, on PERD de l'information !\n",
    "print(array_entiers) #  \n",
    "\n",
    "# Il vaut donc mieux définir le type de données lors de la création du tableau, pour éviter de perdre de l'information.\n",
    "#On peut le faire en précisant le type de données lors de la création du tableau avec l'argument dtype.     \n",
    "array_decimaux = np.array([[1, 2.0], [3, 4]], dtype=np.float32) # on précise le type de données float32\n",
    "\n",
    "import pandas as pd\n",
    "\n",
    "df = pd.DataFrame([[1, 2], [3, 4]], columns=[\"A\", \"B\"])\n",
    "print(\"\\n\",df)\n",
    "\n",
    "df[0,0] = 1.7 # on remplace le premier élément qui vaut 1 (entier) par un float (1.7)\n",
    "print(\"\\n\",df) "
   ]
  },
  {
   "cell_type": "markdown",
   "id": "c02f78ec",
   "metadata": {},
   "source": [
    "## Lire des valeurs, lignes, colonnes, ... dans un array Numpy brut ou structuré, et dans un dataframe de Pandas"
   ]
  },
  {
   "cell_type": "code",
   "execution_count": 4,
   "id": "fc48a790",
   "metadata": {},
   "outputs": [],
   "source": [
    "import numpy as np\n",
    "import pandas as pd"
   ]
  },
  {
   "cell_type": "code",
   "execution_count": 5,
   "id": "84ca5ff5",
   "metadata": {},
   "outputs": [
    {
     "name": "stdout",
     "output_type": "stream",
     "text": [
      "Array brut :\n",
      "[[1 'Alice' 'Math' 15.0]\n",
      " [2 'Bob' 'Math' 18.0]\n",
      " [3 'Alice' 'Phys' 14.0]\n",
      " [4 'Eve' 'Math' nan]]\n",
      "<class 'numpy.ndarray'>\n",
      "object\n",
      "\n",
      "Array structuré, c'est un élément à une dimension, attention ! On ne voit pas le nom des colonnes:\n",
      "[(1, 'Alice', 'Math', 15.) (2, 'Bob', 'Math', 18.)\n",
      " (3, 'Alice', 'Phys', 14.) (4, 'Eve', 'Math', nan)]\n",
      "<class 'numpy.ndarray'>\n",
      "[('id', '<i4'), ('nom', '<U10'), ('matière', '<U10'), ('note', '<f4')]\n",
      "\n",
      "    id    nom matière  note\n",
      "0   1  Alice    Math  15.0\n",
      "1   2    Bob    Math  18.0\n",
      "2   3  Alice    Phys  14.0\n",
      "3   4    Eve    Math   NaN\n",
      "<class 'pandas.core.frame.DataFrame'>\n",
      "id           int32\n",
      "nom         object\n",
      "matière     object\n",
      "note       float32\n",
      "dtype: object\n"
     ]
    }
   ],
   "source": [
    "Array_brut = np.array([\n",
    "    [1, 'Alice', 'Math', 15.0],\n",
    "    [2, 'Bob', 'Math', 18.0],\n",
    "    [3, 'Alice', 'Phys', 14.0],\n",
    "    [4, 'Eve', 'Math', np.nan]\n",
    "], dtype=object)\n",
    "\n",
    "print(\"Array brut :\")\n",
    "print(Array_brut)\n",
    "print(type(Array_brut)) # type : <class 'numpy.ndarray'>\n",
    "print(Array_brut.dtype) # dtype : object, car il y a des types différents dans le tableau (int, str, float, np.nan) \n",
    "\n",
    "\n",
    "dtype = [('id', 'i4'), ('nom', 'U10'), ('matière', 'U10'), ('note', 'f4')]\n",
    "array_structuré  = np.array([\n",
    "    (1, 'Alice', 'Math', 15.0),\n",
    "    (2, 'Bob', 'Math', 18.0),\n",
    "    (3, 'Alice', 'Phys', 14.0),\n",
    "    (4, 'Eve', 'Math', np.nan)\n",
    "], dtype=dtype)\n",
    "\n",
    "print(\"\\nArray structuré, c'est un élément à une dimension, attention ! On ne voit pas le nom des colonnes:\")\n",
    "print(array_structuré)\n",
    "print(type(array_structuré)) # type : <class 'numpy.ndarray'>  \n",
    "print(array_structuré.dtype) # dtype : [('id', '<i4'), ('nom', '<U10'), ('matière', '<U10'), ('note', '<f4')]\n",
    "\n",
    "\n",
    "df_pandas = pd.DataFrame(array_structuré)\n",
    "print(\"\\n\",df_pandas)\n",
    "print(type(df_pandas)) # type : <class 'pandas.core.frame.DataFrame'>\n",
    "print(df_pandas.dtypes) # dtype : id int32, nom object, matière object, note float32"
   ]
  },
  {
   "cell_type": "code",
   "execution_count": 6,
   "id": "a9876f84",
   "metadata": {},
   "outputs": [
    {
     "data": {
      "text/plain": [
       "array([[1, 'Alice', 'Math', 15.0],\n",
       "       [2, 'Bob', 'Math', 18.0],\n",
       "       [3, 'Alice', 'Phys', 14.0],\n",
       "       [4, 'Eve', 'Math', nan]], dtype=object)"
      ]
     },
     "execution_count": 6,
     "metadata": {},
     "output_type": "execute_result"
    }
   ],
   "source": [
    "Array_brut\n",
    "\n"
   ]
  },
  {
   "cell_type": "code",
   "execution_count": 7,
   "id": "563324c5",
   "metadata": {},
   "outputs": [
    {
     "data": {
      "text/plain": [
       "array([(1, 'Alice', 'Math', 15.), (2, 'Bob', 'Math', 18.),\n",
       "       (3, 'Alice', 'Phys', 14.), (4, 'Eve', 'Math', nan)],\n",
       "      dtype=[('id', '<i4'), ('nom', '<U10'), ('matière', '<U10'), ('note', '<f4')])"
      ]
     },
     "execution_count": 7,
     "metadata": {},
     "output_type": "execute_result"
    }
   ],
   "source": [
    "array_structuré"
   ]
  },
  {
   "cell_type": "markdown",
   "id": "b362f260",
   "metadata": {},
   "source": [
    "Notez que le array structuré est TOUJOURS à une dimension ! Il simule une table grâce à ses propriétés dtype et dtype.names"
   ]
  },
  {
   "cell_type": "markdown",
   "id": "acc25cb7",
   "metadata": {},
   "source": [
    "## Lire/sélectionner un élément précis"
   ]
  },
  {
   "cell_type": "markdown",
   "id": "a58c5379",
   "metadata": {},
   "source": [
    "### Array Numpy classique / Brut"
   ]
  },
  {
   "cell_type": "code",
   "execution_count": 8,
   "id": "59b3bc8e",
   "metadata": {},
   "outputs": [
    {
     "name": "stdout",
     "output_type": "stream",
     "text": [
      "Array brut :\n",
      "14.0\n"
     ]
    }
   ],
   "source": [
    "print(\"Array brut :\")\n",
    "print(Array_brut[2,3])"
   ]
  },
  {
   "cell_type": "code",
   "execution_count": 10,
   "id": "6eea7eca",
   "metadata": {},
   "outputs": [
    {
     "data": {
      "text/plain": [
       "array([(1, 'Alice', 'Math', 15.), (2, 'Bob', 'Math', 18.),\n",
       "       (3, 'Alice', 'Phys', 14.), (4, 'Eve', 'Math', nan)],\n",
       "      dtype=[('id', '<i4'), ('nom', '<U10'), ('matière', '<U10'), ('note', '<f4')])"
      ]
     },
     "execution_count": 10,
     "metadata": {},
     "output_type": "execute_result"
    }
   ],
   "source": [
    "array_structuré"
   ]
  },
  {
   "cell_type": "markdown",
   "id": "f1bbffc0",
   "metadata": {},
   "source": [
    "### Array Numpy Structuré\n",
    "\n"
   ]
  },
  {
   "cell_type": "code",
   "execution_count": 9,
   "id": "b19844a0",
   "metadata": {},
   "outputs": [
    {
     "name": "stdout",
     "output_type": "stream",
     "text": [
      "\n",
      "Array structuré :\n",
      "14.0\n",
      "\n",
      "Note d'Alice : [14.]\n"
     ]
    }
   ],
   "source": [
    "print(\"\\nArray structuré :\")\n",
    "print(array_structuré[2][3]) # Affiche la note de Alice en Physique : la 4ème \"colonne\" (colonne 3 car on compte à partir de 0) de la 3ème \"ligne\" (ligne 2)\n",
    "# Accéder à la note d'Alice en physique (filtres)\n",
    "note_alice = array_structuré[(array_structuré['nom'] == 'Alice') & (array_structuré['matière'] == 'Phys') ]['note']\n",
    "print(\"\\nNote d'Alice :\", note_alice)"
   ]
  },
  {
   "cell_type": "markdown",
   "id": "1dfffb9f",
   "metadata": {},
   "source": [
    "### Dataframe Pandas\n",
    "\n",
    "Pandas n’a pas de df[[ligne],[colonne]] comme NumPy.\n",
    "\n",
    "Mais avec .iloc, tu peux faire la même chose avec des listes ou des slices (les deux points :) !\n",
    "\n",
    "C’est ça qu’on appelle « indexation basée sur position » en Pandas."
   ]
  },
  {
   "cell_type": "code",
   "execution_count": null,
   "id": "7f43c10a",
   "metadata": {},
   "outputs": [],
   "source": []
  },
  {
   "cell_type": "code",
   "execution_count": 40,
   "id": "37af4955",
   "metadata": {},
   "outputs": [
    {
     "name": "stdout",
     "output_type": "stream",
     "text": [
      "2    14.0\n",
      "Name: note, dtype: float32\n",
      "\n",
      "Le iloc va prendre la valeur de la note dans le tableau filtré. Ce dernier a un index 2 que je ne veux pas dans le réponse\n",
      "La note d'Alice en Physique est : 14.0\n",
      "14.0\n"
     ]
    }
   ],
   "source": [
    "# Filtrer Alice en Physique et lire la valeur de sa note\n",
    "note_alice_phys = df_pandas[(df_pandas['nom'] == 'Alice') & (df_pandas['matière'] == 'Phys')]['note'].iloc[0]\n",
    "print(df_pandas[(df_pandas['nom'] == 'Alice') & (df_pandas['matière'] == 'Phys')]['note'])\n",
    "\n",
    "print(\"\\nLe iloc va prendre la valeur de la note dans le tableau filtré. Ce dernier a un index 2 que je ne veux pas dans le réponse\")\n",
    "print(\"La note d'Alice en Physique est :\", note_alice_phys)\n",
    "\n",
    "print(df_pandas.iloc[2, 3]) # Affiche la note de Alice en Physique : la 4ème \"colonne\" (colonne 3 car on compte à partir de 0) de la 3ème \"ligne\" (ligne 2)\n",
    "\n"
   ]
  },
  {
   "cell_type": "code",
   "execution_count": 41,
   "id": "e3812eae",
   "metadata": {},
   "outputs": [
    {
     "name": "stdout",
     "output_type": "stream",
     "text": [
      "2    14.0\n",
      "Name: note, dtype: float32\n",
      "\n",
      "Le iloc va prendre la valeur de la note dans le tableau filtré. Ce dernier a un index 2 que je ne veux pas dans le réponse\n",
      "La note d'Alice en Physique est : 14.0\n",
      "14.0\n"
     ]
    }
   ],
   "source": [
    "# Filtrer Alice en Physique et lire la valeur de sa note\n",
    "note_alice_phys = df_pandas[(df_pandas['nom'] == 'Alice') & (df_pandas['matière'] == 'Phys')]['note'].iloc[0]\n",
    "print(df_pandas[(df_pandas['nom'] == 'Alice') & (df_pandas['matière'] == 'Phys')]['note'])\n",
    "\n",
    "print(\"\\nLe iloc va prendre la valeur de la note dans le tableau filtré. Ce dernier a un index 2 que je ne veux pas dans le réponse\")\n",
    "print(\"La note d'Alice en Physique est :\", note_alice_phys)\n",
    "\n",
    "print(df_pandas.iloc[2, 3]) # Affiche la note de Alice en Physique : la 4ème \"colonne\" (colonne 3 car on compte à partir de 0) de la 3ème \"ligne\" (ligne 2)"
   ]
  },
  {
   "cell_type": "code",
   "execution_count": 42,
   "id": "5b493756",
   "metadata": {},
   "outputs": [
    {
     "name": "stdout",
     "output_type": "stream",
     "text": [
      "Ligne 2, toutes les colonnes :\n",
      "id             3\n",
      "nom        Alice\n",
      "matière     Phys\n",
      "note        14.0\n",
      "Name: 2, dtype: object\n",
      "Colonne 3, toutes les lignes :\n",
      "0    15.0\n",
      "1    18.0\n",
      "2    14.0\n",
      "3     NaN\n",
      "Name: note, dtype: float32\n",
      "0    15.0\n",
      "1    18.0\n",
      "2    14.0\n",
      "3     NaN\n",
      "Name: note, dtype: float32\n"
     ]
    }
   ],
   "source": [
    "print(\"Ligne 2, toutes les colonnes :\")\n",
    "print(df_pandas.iloc[2,:])  # ligne 2 (la 3ème), toutes les colonnes\n",
    "\n",
    "print(\"Colonne 3, toutes les lignes :\")\n",
    "print(df_pandas.iloc[:,3])  # toutes les lignes, colonne 3 (la 4ème)\n",
    "\n",
    "print(df_pandas['note'])"
   ]
  },
  {
   "cell_type": "markdown",
   "id": "7abb432c",
   "metadata": {},
   "source": [
    "## Lire un ligne/colonne précise. \n"
   ]
  },
  {
   "cell_type": "markdown",
   "id": "96e3dd83",
   "metadata": {},
   "source": [
    "### Array Numpy classique / Brut"
   ]
  },
  {
   "cell_type": "code",
   "execution_count": 44,
   "id": "a48fcfbd",
   "metadata": {},
   "outputs": [
    {
     "name": "stdout",
     "output_type": "stream",
     "text": [
      "Ligne 2, toutes les colonnes :\n",
      "[3 'Alice' 'Phys' 14.0]\n",
      "(4,) C'est un élément à 1 dimension\n",
      "ou\n",
      "[[3 'Alice' 'Phys' 14.0]]\n",
      "(1, 4) C'est un élément à 2 D, un peu comme une table dans SQL, tronquée à seul enregistrement, cela reste une table\n",
      "\n",
      "Colonne 3, toutes les lignes :\n",
      "[15.0 18.0 14.0 nan]\n"
     ]
    }
   ],
   "source": [
    "\n",
    "Array_brut \n",
    "print(\"Ligne 2, toutes les colonnes :\")\n",
    "print(Array_brut[2,:])  # ligne 2 (la 3ème), toutes les colonnes\n",
    "print(Array_brut[2,:].shape, \"C'est un élément à 1 dimension\") #sa shape est (nombre de colonne,) cad 1D, on n'a plus de notion de ligne ou colonne. Car on a séelctionné une seule ligne, mais on n'a pas pris la ligne en tant que ligne, seulement ses éléments (pas de crochets autour des éléments)\n",
    "print(\"ou\")\n",
    "print(Array_brut[[2],:])  # ligne 2 (la 3ème), toutes les colonnes ; ici le [2] indique une liste de lignes, et la liste contient un seul élément. La réponse sera un sous-ensemble de lignes du tableau, donc ce sera un objet à 2D, sa shpae sera (1,nombre de colonnes).\n",
    "print(Array_brut[[2],:].shape, \"C'est un élément à 2 D, un peu comme une table dans SQL, tronquée à seul enregistrement, cela reste une table\") #sa shape est (1,nombre de colonne,) cad 2D, car on a pris une seule ligne. On a mis des crochets autour de la ligne pour indiquer qu'on veut une liste de lignes, et la liste contient un seul élément. La réponse sera un sous-ensemble de lignes du tableau, donc ce sera un objet à 2D.\n",
    "\n",
    "print(\"\\nColonne 3, toutes les lignes :\")\n",
    "print(Array_brut[:,3])  # toutes les lignes, colonne 3 (la 4ème)    "
   ]
  },
  {
   "cell_type": "code",
   "execution_count": 45,
   "id": "10532c94",
   "metadata": {},
   "outputs": [
    {
     "data": {
      "text/plain": [
       "array([[1, 'Alice', 'Math', 15.0],\n",
       "       [2, 'Bob', 'Math', 18.0],\n",
       "       [3, 'Alice', 'Phys', 14.0],\n",
       "       [4, 'Eve', 'Math', nan]], dtype=object)"
      ]
     },
     "execution_count": 45,
     "metadata": {},
     "output_type": "execute_result"
    }
   ],
   "source": [
    "Array_brut"
   ]
  },
  {
   "cell_type": "markdown",
   "id": "6a600418",
   "metadata": {},
   "source": [
    "### Array Numpy structuré\n",
    "Il est en fait un objet 1D, donc à strictement parler, Il n'y a pas de notion de ligne et colonne pour un array structuré"
   ]
  },
  {
   "cell_type": "code",
   "execution_count": null,
   "id": "73346d05",
   "metadata": {},
   "outputs": [
    {
     "name": "stdout",
     "output_type": "stream",
     "text": [
      "Ligne 2, toutes les colonnes :\n",
      "(3, 'Alice', 'Phys', 14.)\n",
      "Colonne 3, toutes les lignes :\n",
      "['Alice' 'Bob' 'Alice' 'Eve']\n"
     ]
    }
   ],
   "source": [
    "print(\"Ligne 2, toutes les colonnes :\")\n",
    "print(array_structuré[2])  # ligne 2 (la 3ème), toutes les colonnes\n",
    "\n",
    "print(\"Colonne 3, toutes les lignes :\")\n",
    "print(array_structuré['nom'])  # Dans les arrays structurés, la notion de \"colonne\" passe par le nom (data['note']) et non par une position numérique comme dans un array brut.\n"
   ]
  },
  {
   "cell_type": "markdown",
   "id": "44af14dd",
   "metadata": {},
   "source": [
    "### Dataframe Pandas"
   ]
  },
  {
   "cell_type": "code",
   "execution_count": 48,
   "id": "e411413a",
   "metadata": {},
   "outputs": [
    {
     "name": "stdout",
     "output_type": "stream",
     "text": [
      "Ligne 2, toutes les colonnes :\n",
      "id             3\n",
      "nom        Alice\n",
      "matière     Phys\n",
      "note        14.0\n",
      "Name: 2, dtype: object\n",
      "Colonne 3, toutes les lignes :\n",
      "0    15.0\n",
      "1    18.0\n",
      "2    14.0\n",
      "3     NaN\n",
      "Name: note, dtype: float32\n",
      "0    15.0\n",
      "1    18.0\n",
      "2    14.0\n",
      "3     NaN\n",
      "Name: note, dtype: float32\n"
     ]
    }
   ],
   "source": [
    "print(\"Ligne 2, toutes les colonnes :\")\n",
    "print(df_pandas.iloc[2,:])  # ligne 2 (la 3ème), toutes les colonnes\n",
    "\n",
    "print(\"Colonne 3, toutes les lignes :\")\n",
    "print(df_pandas.iloc[:,3])  # toutes les lignes, colonne 3 (la 4ème)\n",
    "\n",
    "print(df_pandas['note']) "
   ]
  },
  {
   "cell_type": "markdown",
   "id": "b1e67dbc",
   "metadata": {},
   "source": [
    "## Lire plusieurs lignes/colonnes précises\n",
    "On peut utiliser \n",
    "- des listes d'indices (de lignes/colonnes)\n",
    "- des slices (tranches) via le symbole \":\"\n",
    "\n",
    "On parle parfois de \"fancy indexing ()\" qui est un façon créative de sélectionner des données (via des listes d'indices, des filtres booléens)"
   ]
  },
  {
   "cell_type": "markdown",
   "id": "5e051269",
   "metadata": {},
   "source": [
    "### Array Numpy classique / Brut"
   ]
  },
  {
   "cell_type": "code",
   "execution_count": 50,
   "id": "013ab1a2",
   "metadata": {},
   "outputs": [
    {
     "name": "stdout",
     "output_type": "stream",
     "text": [
      "\n",
      "Ligne 0 et 2, toutes les colonnes :\n",
      "[[1 'Alice' 'Math' 15.0]\n",
      " [3 'Alice' 'Phys' 14.0]]\n",
      "\n",
      "Lignes 0 à 3 ,3 non inclus, toutes les colonnes :\n",
      "[[1 'Alice' 'Math' 15.0]\n",
      " [2 'Bob' 'Math' 18.0]\n",
      " [3 'Alice' 'Phys' 14.0]]\n",
      "\n",
      "Colonne 2, toutes les lignes :\n",
      "['Math' 'Math' 'Phys' 'Math']\n",
      "\n",
      "Lignes 0 à 3 ,3 non inclus, colonnes 1 et 2 :\n",
      "[['Alice' 15.0]\n",
      " ['Bob' 18.0]\n",
      " ['Alice' 14.0]]\n",
      "\n",
      "Lignes 0 à 3 ,3 non inclus, colonnes 1 et 2 :\n",
      "[[1 'Alice' 'Math' 15.0]\n",
      " [2 'Bob' 'Math' 18.0]\n",
      " [3 'Alice' 'Phys' 14.0]]\n"
     ]
    }
   ],
   "source": [
    "print(\"\\nLigne 0 et 2, toutes les colonnes :\")\n",
    "print(Array_brut[[0,2],:])  # ligne 0 et 2 (mais pas ligne 1), toutes les colonnes, on met des crochets pour indiquer qu'on liste plusieurs lignes, sinon il pense qu'on passe à dimension suivante\n",
    "\n",
    "print(\"\\nLignes 0 à 3 ,3 non inclus, toutes les colonnes :\")\n",
    "print(Array_brut[0:3,:])  # lignes 0,1 et 2 (de 0 à 3, 3 non inclus), toutes les colonnes\n",
    "\n",
    "print(\"\\nColonne 2, toutes les lignes :\")\n",
    "print(Array_brut[:,2])  # toutes les lignes, colonne 2 (la 3ème)\n",
    "\n",
    "print(\"\\nLignes 0 à 3 ,3 non inclus, colonnes 1 et 2 :\")\n",
    "print(Array_brut[0:3,[1,3]])  # lignes 0,1 et 2 (de 0 à 3, 3 non inclus), colonnes 1 et 3 \n",
    "\n",
    "print(\"\\nLignes 0 à 3 ,3 non inclus, colonnes 1 et 2 :\")\n",
    "print(Array_brut[0:3,:])  # lignes 0,1 et 2 (de 0 à 3, 3 non inclus), toutes les colonnes\n",
    "\n"
   ]
  },
  {
   "cell_type": "markdown",
   "id": "4508e604",
   "metadata": {},
   "source": [
    "### Array Numpy structuré\n",
    "Il est en fait un objet 1D, donc à strictement parler, Il n'y a pas de notion de ligne et colonne pour un array structuré"
   ]
  },
  {
   "cell_type": "code",
   "execution_count": 13,
   "id": "42fff29b",
   "metadata": {},
   "outputs": [
    {
     "data": {
      "text/plain": [
       "array([(1, 'Alice', 'Math', 15.), (2, 'Bob', 'Math', 18.),\n",
       "       (3, 'Alice', 'Phys', 14.), (4, 'Eve', 'Math', nan)],\n",
       "      dtype=[('id', '<i4'), ('nom', '<U10'), ('matière', '<U10'), ('note', '<f4')])"
      ]
     },
     "execution_count": 13,
     "metadata": {},
     "output_type": "execute_result"
    }
   ],
   "source": [
    "array_structuré"
   ]
  },
  {
   "cell_type": "code",
   "execution_count": null,
   "id": "f9b09b11",
   "metadata": {},
   "outputs": [
    {
     "name": "stdout",
     "output_type": "stream",
     "text": [
      "Slicing pour les lignes :\n"
     ]
    },
    {
     "data": {
      "text/plain": [
       "array([(1, 'Alice', 'Math', 15.), (2, 'Bob', 'Math', 18.),\n",
       "       (3, 'Alice', 'Phys', 14.)],\n",
       "      dtype=[('id', '<i4'), ('nom', '<U10'), ('matière', '<U10'), ('note', '<f4')])"
      ]
     },
     "execution_count": 14,
     "metadata": {},
     "output_type": "execute_result"
    }
   ],
   "source": [
    "# A VOUS\n",
    "#Le slicing fonctionne-t-il ? pour les lignes, pour les colonnes ?\n",
    "\n",
    "#Tentative pour les lignes (les records)\n",
    "print(\"Slicing pour les lignes :\")\n",
    "\n",
    "array_structuré[0:3] # lignes 0,1 et 2 (de 0 à 3, 3 non inclus)\n"
   ]
  },
  {
   "cell_type": "code",
   "execution_count": 15,
   "id": "95d6343a",
   "metadata": {},
   "outputs": [
    {
     "data": {
      "text/plain": [
       "array([(1, 'Alice', 'Math', 15.), (2, 'Bob', 'Math', 18.),\n",
       "       (3, 'Alice', 'Phys', 14.), (4, 'Eve', 'Math', nan)],\n",
       "      dtype=[('id', '<i4'), ('nom', '<U10'), ('matière', '<U10'), ('note', '<f4')])"
      ]
     },
     "execution_count": 15,
     "metadata": {},
     "output_type": "execute_result"
    }
   ],
   "source": [
    "array_structuré #affiche tout le tableau, pas de slicing"
   ]
  },
  {
   "cell_type": "code",
   "execution_count": 16,
   "id": "08a4409b",
   "metadata": {},
   "outputs": [
    {
     "data": {
      "text/plain": [
       "(4, 'Eve', 'Math', nan)"
      ]
     },
     "execution_count": 16,
     "metadata": {},
     "output_type": "execute_result"
    }
   ],
   "source": [
    "array_structuré[3] # toutes les colonnes, ligne 3 (la 4ème)"
   ]
  },
  {
   "cell_type": "code",
   "execution_count": null,
   "id": "0feb156c",
   "metadata": {},
   "outputs": [
    {
     "data": {
      "text/plain": [
       "array([(1, 'Alice', 'Math', 15.), (2, 'Bob', 'Math', 18.),\n",
       "       (3, 'Alice', 'Phys', 14.), (4, 'Eve', 'Math', nan)],\n",
       "      dtype=[('id', '<i4'), ('nom', '<U10'), ('matière', '<U10'), ('note', '<f4')])"
      ]
     },
     "execution_count": 54,
     "metadata": {},
     "output_type": "execute_result"
    }
   ],
   "source": [
    "array_structuré[:] # toutes les lignes, toutes les colonnes"
   ]
  },
  {
   "cell_type": "code",
   "execution_count": null,
   "id": "19e0a6af",
   "metadata": {},
   "outputs": [
    {
     "data": {
      "text/plain": [
       "array([(1, 'Alice', 'Math', 15.), (2, 'Bob', 'Math', 18.),\n",
       "       (3, 'Alice', 'Phys', 14.), (4, 'Eve', 'Math', nan)],\n",
       "      dtype=[('id', '<i4'), ('nom', '<U10'), ('matière', '<U10'), ('note', '<f4')])"
      ]
     },
     "execution_count": 17,
     "metadata": {},
     "output_type": "execute_result"
    }
   ],
   "source": [
    "array_structuré[0:] # toutes les lignes, toutes les colonnes"
   ]
  },
  {
   "cell_type": "code",
   "execution_count": null,
   "id": "68110573",
   "metadata": {},
   "outputs": [
    {
     "ename": "IndexError",
     "evalue": "too many indices for array: array is 1-dimensional, but 2 were indexed",
     "output_type": "error",
     "traceback": [
      "\u001b[1;31m---------------------------------------------------------------------------\u001b[0m",
      "\u001b[1;31mIndexError\u001b[0m                                Traceback (most recent call last)",
      "Cell \u001b[1;32mIn[18], line 1\u001b[0m\n\u001b[1;32m----> 1\u001b[0m array_structuré[\u001b[38;5;241m2\u001b[39m,\u001b[38;5;241m3\u001b[39m]\n",
      "\u001b[1;31mIndexError\u001b[0m: too many indices for array: array is 1-dimensional, but 2 were indexed"
     ]
    }
   ],
   "source": [
    "array_structuré[2,3] # ne fonctionne pas des qu'on essaie de mettre une 2'me dimension "
   ]
  },
  {
   "cell_type": "code",
   "execution_count": 24,
   "id": "794bfb6c",
   "metadata": {},
   "outputs": [
    {
     "data": {
      "text/plain": [
       "array([(2, 'Bob', 'Math', 18.), (3, 'Alice', 'Phys', 14.)],\n",
       "      dtype=[('id', '<i4'), ('nom', '<U10'), ('matière', '<U10'), ('note', '<f4')])"
      ]
     },
     "execution_count": 24,
     "metadata": {},
     "output_type": "execute_result"
    }
   ],
   "source": [
    "array_structuré[1:-1] # j'affiche en commençant par la 2ème ligne (1) et en terminant par l'avant-dernière ligne (-1), toutes les colonnes"
   ]
  },
  {
   "cell_type": "code",
   "execution_count": 25,
   "id": "b3201975",
   "metadata": {},
   "outputs": [
    {
     "data": {
      "text/plain": [
       "array([(3, 'Alice', 'Phys', 14.), (4, 'Eve', 'Math', nan)],\n",
       "      dtype=[('id', '<i4'), ('nom', '<U10'), ('matière', '<U10'), ('note', '<f4')])"
      ]
     },
     "execution_count": 25,
     "metadata": {},
     "output_type": "execute_result"
    }
   ],
   "source": [
    "array_structuré[2:] # j'affiche en commençant par la 3ème ligne et je prends tout le reste"
   ]
  },
  {
   "cell_type": "code",
   "execution_count": 26,
   "id": "d055b2d2",
   "metadata": {},
   "outputs": [
    {
     "data": {
      "text/plain": [
       "array([(1, 'Alice', 'Math', 15.)],\n",
       "      dtype=[('id', '<i4'), ('nom', '<U10'), ('matière', '<U10'), ('note', '<f4')])"
      ]
     },
     "execution_count": 26,
     "metadata": {},
     "output_type": "execute_result"
    }
   ],
   "source": [
    "array_structuré[:-3] # j'affiche tout sauf les 3 dernières lignes \n"
   ]
  },
  {
   "cell_type": "code",
   "execution_count": 30,
   "id": "671ce00f",
   "metadata": {},
   "outputs": [
    {
     "data": {
      "text/plain": [
       "array([(1, 'Alice', 'Math', 15.), (2, 'Bob', 'Math', 18.)],\n",
       "      dtype=[('id', '<i4'), ('nom', '<U10'), ('matière', '<U10'), ('note', '<f4')])"
      ]
     },
     "execution_count": 30,
     "metadata": {},
     "output_type": "execute_result"
    }
   ],
   "source": [
    "#EN conclusion, le slicing fonctionne pour les lignes, mais pas pour les colonnes.OU plutôt, on peut afficher des elements de cette dimension, en retirant des éléments ou debut ou a la fin.\n",
    "array_structuré[:-2]"
   ]
  },
  {
   "cell_type": "markdown",
   "id": "bc0edd3b",
   "metadata": {},
   "source": [
    "### Dataframe Pandas\n",
    "Pour l'approche avec des slices/tranches (en utilisant \":\"), on passe simplement \n",
    "- par iloc si on fonctionne avec des numéros d'indice de colonne\n",
    "- par loc si on fonctionne avec les noms de colonne"
   ]
  },
  {
   "cell_type": "code",
   "execution_count": null,
   "id": "4dcafa97",
   "metadata": {},
   "outputs": [
    {
     "name": "stdout",
     "output_type": "stream",
     "text": [
      "0    Alice\n",
      "1      Bob\n",
      "2    Alice\n",
      "3      Eve\n",
      "Name: nom, dtype: object\n"
     ]
    }
   ],
   "source": [
    "print(df_pandas.loc[:,'nom']) # toutes les lignes, colonne 'nom'"
   ]
  },
  {
   "cell_type": "code",
   "execution_count": null,
   "id": "5887b96f",
   "metadata": {},
   "outputs": [],
   "source": [
    "print(\"\\nLigne 0 et 2, toutes les colonnes :\")\n",
    "print(df_pandas.iloc[[0,2],:])  # ligne 0 et 2 (mais pas ligne 1), toutes les colonnes, on met des crochets pour indiquer qu'on liste plusieurs lignes, sinon il pense qu'on passe à dimension suivante\n",
    "\n",
    "print(\"\\nLignes 0 à 3 ,3 non inclus, toutes les colonnes :\")\n",
    "print(df_pandas.iloc[0:3,:])  # lignes 0,1 et 2 (de 0 à 3, 3 non inclus), toutes les colonnes\n",
    "\n",
    "print(\"\\nColonne 2, toutes les lignes :\")\n",
    "print(df_pandas.iloc[:,2])  # toutes les lignes, colonne 2 (la 3ème)\n",
    "\n",
    "print(\"\\nLignes 0 à 3 ,3 non inclus, colonnes 1 et 2 :\")\n",
    "print(df_pandas.iloc[0:3,[1,3]])  # lignes 0,1 et 2 (de 0 à 3, 3 non inclus), colonnes 1 et 3 \n",
    "\n",
    "print(\"\\nLignes 0 à 3 ,3 non inclus, colonnes 1 et 2 :\")\n",
    "print(df_pandas.iloc[0:3,:])  # lignes 0,1 et 2 (de 0 à 3, 3 non inclus), toutes les colonnes"
   ]
  },
  {
   "cell_type": "markdown",
   "id": "2e4c9d00",
   "metadata": {},
   "source": [
    "### Remarque : la différence entre deux Numpy array de shape respectives (4,) et (1,4)"
   ]
  },
  {
   "cell_type": "markdown",
   "id": "4b9f779b",
   "metadata": {},
   "source": [
    "Les deux se ressemblent fortement. Dans l'exemple ci-dessous, on a l'impression que les deux sont le contenu d'une ligne, c'est tout.\n",
    "\n",
    "[3 'Alice' 'Phys' 14.0]\n",
    "Il y une shape de (4,) C'est un élément à 1 dimensions, c'est une liste plate \n",
    "\n",
    "[[3 'Alice' 'Phys' 14.0]]\n",
    "Il a une shape de (1,4) C'est un élément à 2 dimensions\n",
    "\n",
    "\n",
    "Conseils :\n",
    "- pour des calculs vectorisés, reshape ton array pour être explicite.\n",
    "- Pour des données tabulaires, (1,4) est plus clair et plus fiable.\n",
    "- Pour une simple liste de valeurs, (4,) suffit.\n",
    "\n",
    "Utilisation | Préféré  |\n",
    "|-----------| ---------|\n",
    "| Manipuler des vecteurs simples | (4,) (plus léger) |\n",
    "| Travailler avec des matrices / DataFrames / machine learning | (1,4) (plus sûr) |"
   ]
  },
  {
   "cell_type": "code",
   "execution_count": null,
   "id": "61f3c34e",
   "metadata": {},
   "outputs": [
    {
     "name": "stdout",
     "output_type": "stream",
     "text": [
      "[70]\n",
      "[[70]]\n"
     ]
    }
   ],
   "source": [
    "# Deux versions d'un vecteur\n",
    "a = np.array([1, 2, 3, 4])        # Shape : (4,)\n",
    "b = np.array([[1, 2, 3, 4]])      # Shape : (1,4)\n",
    "\n",
    "# Soit un vecteur\n",
    "c = np.array([[5], [6], [7], [8]])  # Shape : (4,1)\n",
    "\n",
    "# Tentative de produit matriciel   # @ est l'opérateur de produit matriciel, * est le produit élément par élément ou \"produit Hadamard\"\n",
    "try:\n",
    "    print(a @ c)  # Produit avec un vecteur 1D\n",
    "except ValueError as e:\n",
    "    print(f\"Erreur avec a @ c : {e}\")\n",
    "\n",
    "# Produit avec un array 2D\n",
    "print(b @ c)  # Produit avec une matrice 2D"
   ]
  },
  {
   "cell_type": "markdown",
   "id": "e9c82683",
   "metadata": {},
   "source": [
    "Même si ça ne plante pas, ça peut être une source de confusion, car :\n",
    "\n",
    "si tu enchaînes des calculs matriciels après, le shape peut casser la chaîne (par exemple .T ou @ suivant).\n",
    "\n",
    "le résultat n’a pas la même forme :\n",
    "un scalaire float ≠ une matrice [[valeur]]."
   ]
  },
  {
   "cell_type": "code",
   "execution_count": null,
   "id": "d4eceda2",
   "metadata": {},
   "outputs": [
    {
     "name": "stdout",
     "output_type": "stream",
     "text": [
      "a avant son reshape\n",
      "[1 2 3 4]\n",
      "(4,)\n",
      "a reshaped :\n",
      "[[1 2 3 4]]\n",
      "(1, 4)\n"
     ]
    }
   ],
   "source": [
    "#POur convertir un tableau 1D en tableau 2D, on peut utiliser reshape\n",
    "print(\"a avant son reshape\")\n",
    "print(a)  # a est un tableau 1D de shape (4,)\n",
    "print(a.shape)  # Shape : (4,)\n",
    "a_reshaped = a.reshape(1, -1)  # Reshape pour obtenir une matrice 2D (1,4)\n",
    "print(\"a reshaped :\")\n",
    "print(a_reshaped)\n",
    "print(a_reshaped.shape)  # Shape : (1,4)\n"
   ]
  },
  {
   "cell_type": "markdown",
   "id": "e1e2a6d0",
   "metadata": {},
   "source": [
    "## Lire un sous-ensemble"
   ]
  },
  {
   "cell_type": "markdown",
   "id": "1a20c53f",
   "metadata": {},
   "source": [
    "### Array Numpy classique / Brut"
   ]
  },
  {
   "cell_type": "code",
   "execution_count": null,
   "id": "d29d0f17",
   "metadata": {},
   "outputs": [
    {
     "name": "stdout",
     "output_type": "stream",
     "text": [
      "[[1 'Alice' 'Math' 15.0]\n",
      " [2 'Bob' 'Math' 18.0]\n",
      " [3 'Alice' 'Phys' 14.0]\n",
      " [4 'Eve' 'Math' nan]]\n",
      "\n",
      "Ligne 0, 2ème colonne suivi de ligne 1, 3ème colonne :\n",
      "['Math' 18.0]\n",
      "[['Math' 15.0]\n",
      " ['Math' 18.0]]\n",
      "[['Math' 15.0]\n",
      " ['Math' 18.0]]\n",
      "[[1 'Alice' 'Math' 15.0]\n",
      " [2 'Bob' 'Math' 18.0]]\n",
      "[['Math' 18.0]\n",
      " ['Phys' 14.0]\n",
      " ['Math' nan]]\n"
     ]
    }
   ],
   "source": [
    "print(df_pandas.iloc)\n",
    "print(\"\\nLigne 0, 2ème colonne suivi de ligne 1, 3ème colonne :\")\n",
    "print(df_pandas.iloc[[0,1],[2,3]])\n",
    "\n",
    "print(df_pandas.iloc[[0,1],2:4])  # lignes 0 et 1, colonnes 2 à 3 (3 non inclus)\n",
    "print(df_pandas.iloc[[0,1],2:])  # lignes 0 et 1, colonnes 2 à fin\n",
    "print(df_pandas.iloc[[0,1],:])  # lignes 0 et 1, toutes les colonnes\n",
    "print(df_pandas.iloc[1:,2:])  # lignes 1 à la fin, colonne 2 à la fin"
   ]
  },
  {
   "cell_type": "markdown",
   "id": "290c99f2",
   "metadata": {},
   "source": [
    "### Array Numpy classique / Brut"
   ]
  },
  {
   "cell_type": "code",
   "execution_count": null,
   "id": "6afa4f41",
   "metadata": {},
   "outputs": [],
   "source": [
    "#A VOUS"
   ]
  },
  {
   "cell_type": "markdown",
   "id": "2b6e919e",
   "metadata": {},
   "source": [
    "### Dataframe Pandas\n",
    "Pour l'approche avec des slices/tranches (en utilisant \":\"), on passe simplement \n",
    "- par iloc si on fonctionne avec des numéros d'indice de colonne\n",
    "- par loc si on fonctionne avec les noms de colonne"
   ]
  },
  {
   "cell_type": "code",
   "execution_count": null,
   "id": "2a9bc62e",
   "metadata": {},
   "outputs": [
    {
     "name": "stdout",
     "output_type": "stream",
     "text": [
      "     nom matière  note\n",
      "0  Alice    Math  15.0\n",
      "1    Bob    Math  18.0\n",
      "2  Alice    Phys  14.0\n",
      "3    Eve    Math   NaN\n",
      "     nom matière\n",
      "0  Alice    Math\n",
      "1    Bob    Math\n",
      "2  Alice    Phys\n",
      "3    Eve    Math\n",
      "     nom matière\n",
      "1    Bob    Math\n",
      "2  Alice    Phys\n",
      "3    Eve    Math\n"
     ]
    }
   ],
   "source": [
    "print(df_pandas.loc[:, 'nom':]) # toutes les lignes, toutes les colonnes après et incluant la colonne 'nom'\n",
    "print(df_pandas.loc[:, 'nom':'matière']) # toutes les lignes, toutes les colonnes entre 'nom' et 'matière' (inclus)\n",
    "print(df_pandas.loc[1:3, 'nom':'matière']) # lignes 1 à 3, toutes les colonnes entre 'nom' et 'matière' (inclus)"
   ]
  },
  {
   "cell_type": "markdown",
   "id": "9949b801",
   "metadata": {},
   "source": [
    "# Modifier l'ordre des lignes"
   ]
  },
  {
   "cell_type": "markdown",
   "id": "a8f0491b",
   "metadata": {},
   "source": [
    "#A VOUS, soyez systématique : pour chaque cas : array classique, strucutré et dataframe"
   ]
  },
  {
   "cell_type": "markdown",
   "id": "38fb6588",
   "metadata": {},
   "source": [
    "# Modifier un élément (une valeur) précis"
   ]
  },
  {
   "cell_type": "markdown",
   "id": "75b34fad",
   "metadata": {},
   "source": [
    "#A VOUS, soyez systématique : pour chaque cas : array classique, strucutré et dataframe"
   ]
  },
  {
   "cell_type": "markdown",
   "id": "88d211ad",
   "metadata": {},
   "source": [
    "# Ajouter une ligne / une colonne"
   ]
  },
  {
   "cell_type": "markdown",
   "id": "1e4b568d",
   "metadata": {},
   "source": [
    "#A VOUS, soyez systématique : pour chaque cas : array classique, strucutré et dataframe\n",
    "dans quel cas est-ce une modification d,un objet existant vs la création d'un tout nouvel objet"
   ]
  },
  {
   "cell_type": "markdown",
   "id": "70f356b0",
   "metadata": {},
   "source": [
    "# Supprimer une ligne / une colonne"
   ]
  },
  {
   "cell_type": "markdown",
   "id": "be6075dd",
   "metadata": {},
   "source": [
    "#A VOUS, soyez systématique : pour chaque cas : array classique, strucutré et dataframe\n",
    "dans quel cas est-ce une modification d,un objet existant vs la création d'un tout nouvel objet"
   ]
  }
 ],
 "metadata": {
  "kernelspec": {
   "display_name": "base",
   "language": "python",
   "name": "python3"
  },
  "language_info": {
   "codemirror_mode": {
    "name": "ipython",
    "version": 3
   },
   "file_extension": ".py",
   "mimetype": "text/x-python",
   "name": "python",
   "nbconvert_exporter": "python",
   "pygments_lexer": "ipython3",
   "version": "3.12.7"
  }
 },
 "nbformat": 4,
 "nbformat_minor": 5
}
