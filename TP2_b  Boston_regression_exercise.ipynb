{
 "cells": [
  {
   "cell_type": "markdown",
   "id": "896dd92c",
   "metadata": {},
   "source": [
    "\n",
    "# Boston Dataset - Étude de la Régression Linéaire, Ridge et Lasso\n",
    "\n",
    "\n"
   ]
  },
  {
   "cell_type": "markdown",
   "id": "c004d122",
   "metadata": {},
   "source": [
    "Copier ce fichier notebook dans le même répertoire que celui créée au dernier cours où nous avons été chercher tous les fichiers reliés au livre \"Le machine learning\" avec Python de A Müller."
   ]
  },
  {
   "cell_type": "code",
   "execution_count": 1,
   "id": "d93495c7",
   "metadata": {},
   "outputs": [],
   "source": [
    "import mglearn\n",
    "import numpy as np\n",
    "import pandas as pd\n",
    "from sklearn.linear_model import LinearRegression\n",
    "from sklearn.model_selection import train_test_split"
   ]
  },
  {
   "cell_type": "code",
   "execution_count": 5,
   "id": "69fbd50f",
   "metadata": {},
   "outputs": [],
   "source": [
    "from sklearn.utils import Bunch"
   ]
  },
  {
   "cell_type": "markdown",
   "id": "1adc7018",
   "metadata": {},
   "source": [
    "ajout de : \n",
    "from sklearn.utils import Bunch\n",
    "pour résoudre ceci :\n",
    "\n",
    "---------------------------------------------------------------------------\n",
    "NameError                                 Traceback (most recent call last)\n",
    "Cell In[3], line 1\n",
    "----> 1 boston = load_boston()\n",
    "\n",
    "Cell In[2], line 11, in load_boston()\n",
    "      9 data = np.hstack([raw_df.values[::2, :], raw_df.values[1::2, :2]])\n",
    "     10 target = raw_df.values[1::2, 2]\n",
    "---> 11 return Bunch(data=data, target=target)\n",
    "\n",
    "NameError: name 'Bunch' is not defined"
   ]
  },
  {
   "cell_type": "markdown",
   "id": "6e9f5a9f",
   "metadata": {},
   "source": [
    "## Partie 1 : Exploration du code `load_boston`\n",
    "\n",
    "\n",
    "Allez chercher le mot-clé **\"boston\"** dans `mglearn/datasets.py`. Vous trouverez"
   ]
  },
  {
   "cell_type": "code",
   "execution_count": 2,
   "id": "282ba1e5",
   "metadata": {},
   "outputs": [],
   "source": [
    "def load_boston():\n",
    "    try:\n",
    "        from sklearn.datasets import load_boston\n",
    "        return load_boston()\n",
    "    except ImportError:\n",
    "         pass\n",
    "    data_url = \"http://lib.stat.cmu.edu/datasets/boston\"\n",
    "    raw_df = pd.read_csv(data_url, sep=r\"\\s+\", skiprows=22, header=None)\n",
    "    data = np.hstack([raw_df.values[::2, :], raw_df.values[1::2, :2]])\n",
    "    target = raw_df.values[1::2, 2]\n",
    "    return Bunch(data=data, target=target)"
   ]
  },
  {
   "cell_type": "markdown",
   "id": "8268aea1",
   "metadata": {},
   "source": [
    "à la place de cette définition de la fonction load_boston(), on pourrait faire tout simplement L'import suivant :\n",
    "from mglearn.datasets import load_boston"
   ]
  },
  {
   "cell_type": "code",
   "execution_count": 19,
   "id": "8c5c9959",
   "metadata": {},
   "outputs": [],
   "source": [
    "boston = load_boston()\n"
   ]
  },
  {
   "cell_type": "code",
   "execution_count": 20,
   "id": "fc317f70",
   "metadata": {},
   "outputs": [],
   "source": [
    "data = boston.data\n",
    "target = boston.target"
   ]
  },
  {
   "cell_type": "code",
   "execution_count": 7,
   "id": "6c0e9ab3",
   "metadata": {},
   "outputs": [
    {
     "name": "stdout",
     "output_type": "stream",
     "text": [
      "Data Shape: (506, 13)\n",
      "Target Shape: (506,)\n"
     ]
    }
   ],
   "source": [
    "print(\"Data Shape:\", data.shape)\n",
    "print(\"Target Shape:\", target.shape)"
   ]
  },
  {
   "cell_type": "code",
   "execution_count": 8,
   "id": "b2be96e5",
   "metadata": {},
   "outputs": [
    {
     "data": {
      "text/plain": [
       "array([[6.3200e-03, 1.8000e+01, 2.3100e+00, ..., 1.5300e+01, 3.9690e+02,\n",
       "        4.9800e+00],\n",
       "       [2.7310e-02, 0.0000e+00, 7.0700e+00, ..., 1.7800e+01, 3.9690e+02,\n",
       "        9.1400e+00],\n",
       "       [2.7290e-02, 0.0000e+00, 7.0700e+00, ..., 1.7800e+01, 3.9283e+02,\n",
       "        4.0300e+00],\n",
       "       ...,\n",
       "       [6.0760e-02, 0.0000e+00, 1.1930e+01, ..., 2.1000e+01, 3.9690e+02,\n",
       "        5.6400e+00],\n",
       "       [1.0959e-01, 0.0000e+00, 1.1930e+01, ..., 2.1000e+01, 3.9345e+02,\n",
       "        6.4800e+00],\n",
       "       [4.7410e-02, 0.0000e+00, 1.1930e+01, ..., 2.1000e+01, 3.9690e+02,\n",
       "        7.8800e+00]])"
      ]
     },
     "execution_count": 8,
     "metadata": {},
     "output_type": "execute_result"
    }
   ],
   "source": [
    "data"
   ]
  },
  {
   "cell_type": "markdown",
   "id": "6c886a44",
   "metadata": {},
   "source": [
    "\n",
    "1. Le code vous renvoie vers un site web.\n",
    "\n",
    "            ➡️ Quel est ce site ? \n",
    "            http://lib.stat.cmu.edu/datasets/boston\n",
    "\n",
    "             Pourquoi le code redirige ici ?\n",
    "             On y retrouve les données et leur description\n",
    "            \n",
    "\n",
    "2. Identifiez le type Python des objets suivants (exécutez les morceaux de code si nécessaire) :\n",
    "\n",
    "- raw_df\n",
    "\n",
    "- raw_df.values\n",
    "\n",
    "- data\n",
    "\n",
    "- target\n",
    "\n",
    "- Bunch\n",
    "\n",
    "3. Dans la définition de raw_df, on trouve ceci :\n"
   ]
  },
  {
   "cell_type": "code",
   "execution_count": 9,
   "id": "5e46707b",
   "metadata": {},
   "outputs": [],
   "source": [
    "data_url = \"http://lib.stat.cmu.edu/datasets/boston\""
   ]
  },
  {
   "cell_type": "code",
   "execution_count": 10,
   "id": "96a51a21",
   "metadata": {},
   "outputs": [],
   "source": [
    "raw_df = pd.read_csv(data_url, sep=r\"\\s+\", skiprows=22, header=None)"
   ]
  },
  {
   "cell_type": "code",
   "execution_count": 11,
   "id": "e84df951",
   "metadata": {},
   "outputs": [
    {
     "data": {
      "text/html": [
       "<div>\n",
       "<style scoped>\n",
       "    .dataframe tbody tr th:only-of-type {\n",
       "        vertical-align: middle;\n",
       "    }\n",
       "\n",
       "    .dataframe tbody tr th {\n",
       "        vertical-align: top;\n",
       "    }\n",
       "\n",
       "    .dataframe thead th {\n",
       "        text-align: right;\n",
       "    }\n",
       "</style>\n",
       "<table border=\"1\" class=\"dataframe\">\n",
       "  <thead>\n",
       "    <tr style=\"text-align: right;\">\n",
       "      <th></th>\n",
       "      <th>0</th>\n",
       "      <th>1</th>\n",
       "      <th>2</th>\n",
       "      <th>3</th>\n",
       "      <th>4</th>\n",
       "      <th>5</th>\n",
       "      <th>6</th>\n",
       "      <th>7</th>\n",
       "      <th>8</th>\n",
       "      <th>9</th>\n",
       "      <th>10</th>\n",
       "    </tr>\n",
       "  </thead>\n",
       "  <tbody>\n",
       "    <tr>\n",
       "      <th>0</th>\n",
       "      <td>0.00632</td>\n",
       "      <td>18.00</td>\n",
       "      <td>2.31</td>\n",
       "      <td>0.0</td>\n",
       "      <td>0.538</td>\n",
       "      <td>6.575</td>\n",
       "      <td>65.2</td>\n",
       "      <td>4.0900</td>\n",
       "      <td>1.0</td>\n",
       "      <td>296.0</td>\n",
       "      <td>15.3</td>\n",
       "    </tr>\n",
       "    <tr>\n",
       "      <th>1</th>\n",
       "      <td>396.90000</td>\n",
       "      <td>4.98</td>\n",
       "      <td>24.00</td>\n",
       "      <td>NaN</td>\n",
       "      <td>NaN</td>\n",
       "      <td>NaN</td>\n",
       "      <td>NaN</td>\n",
       "      <td>NaN</td>\n",
       "      <td>NaN</td>\n",
       "      <td>NaN</td>\n",
       "      <td>NaN</td>\n",
       "    </tr>\n",
       "    <tr>\n",
       "      <th>2</th>\n",
       "      <td>0.02731</td>\n",
       "      <td>0.00</td>\n",
       "      <td>7.07</td>\n",
       "      <td>0.0</td>\n",
       "      <td>0.469</td>\n",
       "      <td>6.421</td>\n",
       "      <td>78.9</td>\n",
       "      <td>4.9671</td>\n",
       "      <td>2.0</td>\n",
       "      <td>242.0</td>\n",
       "      <td>17.8</td>\n",
       "    </tr>\n",
       "    <tr>\n",
       "      <th>3</th>\n",
       "      <td>396.90000</td>\n",
       "      <td>9.14</td>\n",
       "      <td>21.60</td>\n",
       "      <td>NaN</td>\n",
       "      <td>NaN</td>\n",
       "      <td>NaN</td>\n",
       "      <td>NaN</td>\n",
       "      <td>NaN</td>\n",
       "      <td>NaN</td>\n",
       "      <td>NaN</td>\n",
       "      <td>NaN</td>\n",
       "    </tr>\n",
       "    <tr>\n",
       "      <th>4</th>\n",
       "      <td>0.02729</td>\n",
       "      <td>0.00</td>\n",
       "      <td>7.07</td>\n",
       "      <td>0.0</td>\n",
       "      <td>0.469</td>\n",
       "      <td>7.185</td>\n",
       "      <td>61.1</td>\n",
       "      <td>4.9671</td>\n",
       "      <td>2.0</td>\n",
       "      <td>242.0</td>\n",
       "      <td>17.8</td>\n",
       "    </tr>\n",
       "    <tr>\n",
       "      <th>...</th>\n",
       "      <td>...</td>\n",
       "      <td>...</td>\n",
       "      <td>...</td>\n",
       "      <td>...</td>\n",
       "      <td>...</td>\n",
       "      <td>...</td>\n",
       "      <td>...</td>\n",
       "      <td>...</td>\n",
       "      <td>...</td>\n",
       "      <td>...</td>\n",
       "      <td>...</td>\n",
       "    </tr>\n",
       "    <tr>\n",
       "      <th>1007</th>\n",
       "      <td>396.90000</td>\n",
       "      <td>5.64</td>\n",
       "      <td>23.90</td>\n",
       "      <td>NaN</td>\n",
       "      <td>NaN</td>\n",
       "      <td>NaN</td>\n",
       "      <td>NaN</td>\n",
       "      <td>NaN</td>\n",
       "      <td>NaN</td>\n",
       "      <td>NaN</td>\n",
       "      <td>NaN</td>\n",
       "    </tr>\n",
       "    <tr>\n",
       "      <th>1008</th>\n",
       "      <td>0.10959</td>\n",
       "      <td>0.00</td>\n",
       "      <td>11.93</td>\n",
       "      <td>0.0</td>\n",
       "      <td>0.573</td>\n",
       "      <td>6.794</td>\n",
       "      <td>89.3</td>\n",
       "      <td>2.3889</td>\n",
       "      <td>1.0</td>\n",
       "      <td>273.0</td>\n",
       "      <td>21.0</td>\n",
       "    </tr>\n",
       "    <tr>\n",
       "      <th>1009</th>\n",
       "      <td>393.45000</td>\n",
       "      <td>6.48</td>\n",
       "      <td>22.00</td>\n",
       "      <td>NaN</td>\n",
       "      <td>NaN</td>\n",
       "      <td>NaN</td>\n",
       "      <td>NaN</td>\n",
       "      <td>NaN</td>\n",
       "      <td>NaN</td>\n",
       "      <td>NaN</td>\n",
       "      <td>NaN</td>\n",
       "    </tr>\n",
       "    <tr>\n",
       "      <th>1010</th>\n",
       "      <td>0.04741</td>\n",
       "      <td>0.00</td>\n",
       "      <td>11.93</td>\n",
       "      <td>0.0</td>\n",
       "      <td>0.573</td>\n",
       "      <td>6.030</td>\n",
       "      <td>80.8</td>\n",
       "      <td>2.5050</td>\n",
       "      <td>1.0</td>\n",
       "      <td>273.0</td>\n",
       "      <td>21.0</td>\n",
       "    </tr>\n",
       "    <tr>\n",
       "      <th>1011</th>\n",
       "      <td>396.90000</td>\n",
       "      <td>7.88</td>\n",
       "      <td>11.90</td>\n",
       "      <td>NaN</td>\n",
       "      <td>NaN</td>\n",
       "      <td>NaN</td>\n",
       "      <td>NaN</td>\n",
       "      <td>NaN</td>\n",
       "      <td>NaN</td>\n",
       "      <td>NaN</td>\n",
       "      <td>NaN</td>\n",
       "    </tr>\n",
       "  </tbody>\n",
       "</table>\n",
       "<p>1012 rows × 11 columns</p>\n",
       "</div>"
      ],
      "text/plain": [
       "             0      1      2    3      4      5     6       7    8      9   \\\n",
       "0       0.00632  18.00   2.31  0.0  0.538  6.575  65.2  4.0900  1.0  296.0   \n",
       "1     396.90000   4.98  24.00  NaN    NaN    NaN   NaN     NaN  NaN    NaN   \n",
       "2       0.02731   0.00   7.07  0.0  0.469  6.421  78.9  4.9671  2.0  242.0   \n",
       "3     396.90000   9.14  21.60  NaN    NaN    NaN   NaN     NaN  NaN    NaN   \n",
       "4       0.02729   0.00   7.07  0.0  0.469  7.185  61.1  4.9671  2.0  242.0   \n",
       "...         ...    ...    ...  ...    ...    ...   ...     ...  ...    ...   \n",
       "1007  396.90000   5.64  23.90  NaN    NaN    NaN   NaN     NaN  NaN    NaN   \n",
       "1008    0.10959   0.00  11.93  0.0  0.573  6.794  89.3  2.3889  1.0  273.0   \n",
       "1009  393.45000   6.48  22.00  NaN    NaN    NaN   NaN     NaN  NaN    NaN   \n",
       "1010    0.04741   0.00  11.93  0.0  0.573  6.030  80.8  2.5050  1.0  273.0   \n",
       "1011  396.90000   7.88  11.90  NaN    NaN    NaN   NaN     NaN  NaN    NaN   \n",
       "\n",
       "        10  \n",
       "0     15.3  \n",
       "1      NaN  \n",
       "2     17.8  \n",
       "3      NaN  \n",
       "4     17.8  \n",
       "...    ...  \n",
       "1007   NaN  \n",
       "1008  21.0  \n",
       "1009   NaN  \n",
       "1010  21.0  \n",
       "1011   NaN  \n",
       "\n",
       "[1012 rows x 11 columns]"
      ]
     },
     "execution_count": 11,
     "metadata": {},
     "output_type": "execute_result"
    }
   ],
   "source": [
    "raw_df"
   ]
  },
  {
   "cell_type": "code",
   "execution_count": 12,
   "id": "968993ab",
   "metadata": {},
   "outputs": [
    {
     "name": "stdout",
     "output_type": "stream",
     "text": [
      "<class 'pandas.core.frame.DataFrame'>\n"
     ]
    }
   ],
   "source": [
    "print(type(raw_df))"
   ]
  },
  {
   "cell_type": "code",
   "execution_count": 13,
   "id": "da26c2eb",
   "metadata": {},
   "outputs": [
    {
     "data": {
      "text/plain": [
       "array([[6.3200e-03, 1.8000e+01, 2.3100e+00, ..., 1.0000e+00, 2.9600e+02,\n",
       "        1.5300e+01],\n",
       "       [3.9690e+02, 4.9800e+00, 2.4000e+01, ...,        nan,        nan,\n",
       "               nan],\n",
       "       [2.7310e-02, 0.0000e+00, 7.0700e+00, ..., 2.0000e+00, 2.4200e+02,\n",
       "        1.7800e+01],\n",
       "       ...,\n",
       "       [3.9345e+02, 6.4800e+00, 2.2000e+01, ...,        nan,        nan,\n",
       "               nan],\n",
       "       [4.7410e-02, 0.0000e+00, 1.1930e+01, ..., 1.0000e+00, 2.7300e+02,\n",
       "        2.1000e+01],\n",
       "       [3.9690e+02, 7.8800e+00, 1.1900e+01, ...,        nan,        nan,\n",
       "               nan]])"
      ]
     },
     "execution_count": 13,
     "metadata": {},
     "output_type": "execute_result"
    }
   ],
   "source": [
    "raw_df.values"
   ]
  },
  {
   "cell_type": "code",
   "execution_count": 16,
   "id": "568c706e",
   "metadata": {},
   "outputs": [
    {
     "data": {
      "text/plain": [
       "numpy.ndarray"
      ]
     },
     "execution_count": 16,
     "metadata": {},
     "output_type": "execute_result"
    }
   ],
   "source": [
    "type(raw_df.values)\n"
   ]
  },
  {
   "cell_type": "code",
   "execution_count": 17,
   "id": "2d6772ec",
   "metadata": {},
   "outputs": [
    {
     "name": "stdout",
     "output_type": "stream",
     "text": [
      "<class 'numpy.ndarray'>\n"
     ]
    }
   ],
   "source": [
    "print(type(raw_df.values))"
   ]
  },
  {
   "cell_type": "code",
   "execution_count": 21,
   "id": "cbb5dcf1",
   "metadata": {},
   "outputs": [
    {
     "data": {
      "text/plain": [
       "array([[6.3200e-03, 1.8000e+01, 2.3100e+00, ..., 1.5300e+01, 3.9690e+02,\n",
       "        4.9800e+00],\n",
       "       [2.7310e-02, 0.0000e+00, 7.0700e+00, ..., 1.7800e+01, 3.9690e+02,\n",
       "        9.1400e+00],\n",
       "       [2.7290e-02, 0.0000e+00, 7.0700e+00, ..., 1.7800e+01, 3.9283e+02,\n",
       "        4.0300e+00],\n",
       "       ...,\n",
       "       [6.0760e-02, 0.0000e+00, 1.1930e+01, ..., 2.1000e+01, 3.9690e+02,\n",
       "        5.6400e+00],\n",
       "       [1.0959e-01, 0.0000e+00, 1.1930e+01, ..., 2.1000e+01, 3.9345e+02,\n",
       "        6.4800e+00],\n",
       "       [4.7410e-02, 0.0000e+00, 1.1930e+01, ..., 2.1000e+01, 3.9690e+02,\n",
       "        7.8800e+00]])"
      ]
     },
     "execution_count": 21,
     "metadata": {},
     "output_type": "execute_result"
    }
   ],
   "source": [
    "data"
   ]
  },
  {
   "cell_type": "code",
   "execution_count": 22,
   "id": "7dceca32",
   "metadata": {},
   "outputs": [
    {
     "data": {
      "text/plain": [
       "numpy.ndarray"
      ]
     },
     "execution_count": 22,
     "metadata": {},
     "output_type": "execute_result"
    }
   ],
   "source": [
    "type(data)"
   ]
  },
  {
   "cell_type": "markdown",
   "id": "8ec12c1e",
   "metadata": {},
   "source": [
    "            ➡️ Que signifient les paramètres sep, skiprows et header ?\n",
    "\n",
    "            ➡️ Pourquoi ces valeurs ont-elles été choisies ici d’après vous ?\n",
    "\n",
    "4. Que fait la fonction hstack ?\n",
    "\n",
    "            ➡️ De quelle bibliothèque provient-elle ?\n",
    "\n",
    "            ➡️ Après son exécution, combien de features (colonnes) contient data ?\n",
    "\n",
    "5. Que fait exactement raw_df.values ?\n",
    "\n",
    "            ➡️ Quel type d'objet cela renvoie-t-il ?\n",
    "\n",
    "6. Que fait la ligne raw_df.values[::2, :] ?\n",
    "\n",
    "            ➡️ Sois précis : que sélectionne cette syntaxe, sur quelles dimensions (lignes, colonnes) ?\n",
    "\n",
    "7. Pourquoi le code essaie-t-il d'importer load_boston depuis sklearn et prévoit un plan B si ça échoue ?\n",
    "\n",
    "            ➡️ Pourquoi sklearn a-t-il retiré ce dataset de ses datasets intégrés ? (pensez biais et éthique)"
   ]
  },
  {
   "cell_type": "markdown",
   "id": "0358fdaf",
   "metadata": {},
   "source": [
    "# Partie 2 : Régression linéaire classique"
   ]
  },
  {
   "cell_type": "markdown",
   "id": "9ec76f9d",
   "metadata": {},
   "source": [
    "Mettez-ce fichier dans le même répertoire créé au précédent cours. "
   ]
  },
  {
   "cell_type": "code",
   "execution_count": 83,
   "id": "880e4d01",
   "metadata": {},
   "outputs": [
    {
     "name": "stdout",
     "output_type": "stream",
     "text": [
      "Forme de X: (506, 104)\n",
      "Forme de y: (506,)\n",
      "Score d'entraînement : 0.95\n",
      "Score de test : 0.61\n"
     ]
    }
   ],
   "source": [
    "\n",
    "import mglearn\n",
    "import numpy as np\n",
    "from sklearn.linear_model import LinearRegression\n",
    "from sklearn.model_selection import train_test_split\n",
    "\n",
    "X, y = mglearn.datasets.load_extended_boston()\n",
    "X_train, X_test, y_train, y_test = train_test_split(X, y, random_state=0)\n",
    "\n",
    "lr = LinearRegression().fit(X_train, y_train)\n",
    "\n",
    "print(\"Forme de X:\", X.shape)\n",
    "print(\"Forme de y:\", y.shape)\n",
    "print(\"Score d'entraînement : {:.2f}\".format(lr.score(X_train, y_train)))\n",
    "print(\"Score de test : {:.2f}\".format(lr.score(X_test, y_test)))\n"
   ]
  },
  {
   "cell_type": "markdown",
   "id": "f806c571",
   "metadata": {},
   "source": [
    "\n",
    "1. Combien d'enregistrements (lignes) et de features (colonnes) contient X ?\n",
    "\n",
    "2. Combien de données sont utilisées dans le set d’entraînement et dans le set de test ?\n",
    "\n",
    "3. Combien de paramètres 𝜃 le modèle apprend-il ? \n",
    "\n",
    "            ➡️ À combien de caractéristiques/features correspondent ces paramètres ?\n",
    "\n",
    "4. Affichez lr.coef_ et lr.intercept_. \n",
    "\n",
    "            ➡️ Que représentent ces deux attributs ?\n",
    "\n",
    "\n"
   ]
  },
  {
   "cell_type": "code",
   "execution_count": 84,
   "id": "749ccc87",
   "metadata": {},
   "outputs": [
    {
     "name": "stdout",
     "output_type": "stream",
     "text": [
      "Coefficients: [-4.12710947e+02 -5.22432068e+01 -1.31898815e+02 -1.20041365e+01\n",
      " -1.55107129e+01  2.87163342e+01  5.47040992e+01 -4.95346659e+01\n",
      "  2.65823927e+01  3.70620316e+01 -1.18281674e+01 -1.80581965e+01\n",
      " -1.95246830e+01  1.22025403e+01  2.98078144e+03  1.50084257e+03\n",
      "  1.14187325e+02 -1.69700520e+01  4.09613691e+01 -2.42636646e+01\n",
      "  5.76157466e+01  1.27812142e+03 -2.23986944e+03  2.22825472e+02\n",
      " -2.18201083e+00  4.29960320e+01 -1.33981515e+01 -1.93893485e+01\n",
      " -2.57541277e+00 -8.10130128e+01  9.66019367e+00  4.91423718e+00\n",
      " -8.12114800e-01 -7.64694179e+00  3.37837099e+01 -1.14464390e+01\n",
      "  6.85083979e+01 -1.73753604e+01  4.28128204e+01  1.13988209e+00\n",
      " -7.72696840e-01  5.68255921e+01  1.42875996e+01  5.39551110e+01\n",
      " -3.21709644e+01  1.92709675e+01 -1.38852338e+01  6.06343266e+01\n",
      " -1.23153942e+01 -1.20041365e+01 -1.77243899e+01 -3.39868183e+01\n",
      "  7.08999816e+00 -9.22538241e+00  1.71980268e+01 -1.27718431e+01\n",
      " -1.19727581e+01  5.73871915e+01 -1.75331865e+01  4.10103194e+00\n",
      "  2.93666477e+01 -1.76611772e+01  7.84049424e+01 -3.19098015e+01\n",
      "  4.81752461e+01 -3.95344813e+01  5.22959055e+00  2.19982410e+01\n",
      "  2.56483934e+01 -4.99982035e+01  2.91457545e+01  8.94267456e+00\n",
      " -7.16599297e+01 -2.28147862e+01  8.40660981e+00 -5.37905422e+00\n",
      "  1.20137322e+00 -5.20877186e+00  4.11452351e+01 -3.78250760e+01\n",
      " -2.67163851e+00 -2.55217108e+01 -3.33982030e+01  4.62272693e+01\n",
      " -2.41509169e+01 -1.77532970e+01 -1.39723701e+01 -2.35522208e+01\n",
      "  3.68353800e+01 -9.46890859e+01  1.44302810e+02 -1.51158659e+01\n",
      " -1.49513436e+01 -2.87729579e+01 -3.17673192e+01  2.49551594e+01\n",
      " -1.84384534e+01  3.65073948e+00  1.73101122e+00  3.53617137e+01\n",
      "  1.19553429e+01  6.77025947e-01  2.73452009e+00  3.03720012e+01]\n",
      "Intercept: 30.934563673640035\n",
      "Paramètres non nuls: 104\n"
     ]
    }
   ],
   "source": [
    "\n",
    "print(\"Coefficients:\", lr.coef_)\n",
    "print(\"Intercept:\", lr.intercept_)\n",
    "print(\"Paramètres non nuls:\", np.count_nonzero(lr.coef_))\n"
   ]
  },
  {
   "cell_type": "markdown",
   "id": "0abef5ea",
   "metadata": {},
   "source": [
    "# Partie 3 : Régression Ridge (L2)"
   ]
  },
  {
   "cell_type": "code",
   "execution_count": 85,
   "id": "37b4bad2",
   "metadata": {},
   "outputs": [
    {
     "name": "stdout",
     "output_type": "stream",
     "text": [
      "Score Ridge entraînement : 0.89\n",
      "Score Ridge test : 0.75\n",
      "Valeur par défaut de alpha: 1.0\n"
     ]
    }
   ],
   "source": [
    "\n",
    "from sklearn.linear_model import Ridge\n",
    "\n",
    "ridge = Ridge().fit(X_train, y_train)\n",
    "\n",
    "print(\"Score Ridge entraînement : {:.2f}\".format(ridge.score(X_train, y_train)))\n",
    "print(\"Score Ridge test : {:.2f}\".format(ridge.score(X_test, y_test)))\n",
    "\n",
    "print(\"Valeur par défaut de alpha:\", ridge.alpha)\n",
    "\n",
    "ridge01 = Ridge(alpha=0.1).fit(X_train, y_train)\n",
    "ridge10 = Ridge(alpha=10).fit(X_train, y_train)\n",
    "\n",
    "\n"
   ]
  },
  {
   "cell_type": "markdown",
   "id": "3a745738",
   "metadata": {},
   "source": [
    "1. Comparez les scores d’entraînement et de test avec ceux du modèle linéaire classique.  \n",
    "\n",
    "            ➡️ Qu’observez-vous ? Que cela vous inspire-t-il sur le comportement du modèle ?\n",
    "\n",
    "2. Quelle est la valeur par défaut du paramètre alpha dans Ridge ?   \n",
    "\n",
    "            ➡️ Affichez-la avec ridge.alpha.\n",
    "\n",
    "3. Testez maintenant 3 valeurs différentes d'alpha : 0.1, 1 et 10.   \n",
    "\n",
    "            ➡️ Comparez :\n",
    "\n",
    "- les scores d’entraînement et de test.\n",
    "\n",
    "- le nombre de paramètres non nuls (np.count_nonzero(ridge.coef_)).\n",
    "\n",
    "- la répartition des valeurs dans ridge.coef_ (comparez les coefficients obtenus)."
   ]
  },
  {
   "cell_type": "markdown",
   "id": "fd71cb63",
   "metadata": {},
   "source": [
    "# Partie 4 : Régression Lasso (L1)"
   ]
  },
  {
   "cell_type": "code",
   "execution_count": 86,
   "id": "45ef981d",
   "metadata": {},
   "outputs": [],
   "source": [
    "\n",
    "from sklearn.linear_model import Lasso\n",
    "\n",
    "lasso = Lasso().fit(X_train, y_train)\n",
    "lasso001 = Lasso(alpha=0.01, max_iter=100000).fit(X_train, y_train)\n",
    "lasso00001 = Lasso(alpha=0.0001, max_iter=100000).fit(X_train, y_train)\n",
    "\n",
    "\n",
    "\n",
    "\n"
   ]
  },
  {
   "cell_type": "markdown",
   "id": "d7853878",
   "metadata": {},
   "source": [
    "Questions :\n",
    "\n",
    "1. Pour chaque modèle (lasso, lasso001, lasso00001) :\n",
    "\n",
    "- Affichez le score d'entraînement et de test.\n",
    "\n",
    "- Comptez le nombre de paramètres non nuls.\n",
    "\n",
    "- Observez la différence dans les valeurs de coef_.\n",
    "\n",
    "2. Comparez ces résultats avec Ridge et LinearRegression.\n",
    "\n",
    "➡️ Qu’est-ce que cela vous apprend sur le rôle d’alpha et sur l’effet de la régularisation L1 par rapport à L2 ?"
   ]
  },
  {
   "cell_type": "markdown",
   "id": "ac14c2bd",
   "metadata": {},
   "source": [
    "\n",
    "💡 Bonus :\n",
    "Expliquez, en une phrase, dans quel cas vous recommanderiez Lasso plutôt que Ridge, et inversement.\n"
   ]
  }
 ],
 "metadata": {
  "kernelspec": {
   "display_name": "base",
   "language": "python",
   "name": "python3"
  },
  "language_info": {
   "codemirror_mode": {
    "name": "ipython",
    "version": 3
   },
   "file_extension": ".py",
   "mimetype": "text/x-python",
   "name": "python",
   "nbconvert_exporter": "python",
   "pygments_lexer": "ipython3",
   "version": "3.12.7"
  }
 },
 "nbformat": 4,
 "nbformat_minor": 5
}
